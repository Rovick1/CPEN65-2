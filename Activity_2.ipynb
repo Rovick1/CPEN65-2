{
  "nbformat": 4,
  "nbformat_minor": 0,
  "metadata": {
    "colab": {
      "provenance": [],
      "authorship_tag": "ABX9TyOC6+Pw7/8tbdPCksLOhZgx",
      "include_colab_link": true
    },
    "kernelspec": {
      "name": "python3",
      "display_name": "Python 3"
    },
    "language_info": {
      "name": "python"
    }
  },
  "cells": [
    {
      "cell_type": "markdown",
      "metadata": {
        "id": "view-in-github",
        "colab_type": "text"
      },
      "source": [
        "<a href=\"https://colab.research.google.com/github/Rovick1/CPEN65-2/blob/main/Activity_2.ipynb\" target=\"_parent\"><img src=\"https://colab.research.google.com/assets/colab-badge.svg\" alt=\"Open In Colab\"/></a>"
      ]
    },
    {
      "cell_type": "code",
      "source": [
        "array = []\n",
        "name = input(\"Input Your Name: \")\n",
        "\n",
        "array.extend(name)\n",
        "new_array = array\n",
        "\n",
        "print('Array: ')\n",
        "print(new_array)\n",
        "print()\n",
        "\n",
        "new_array.reverse()\n",
        "\n",
        "print('Reversed Array: ')\n",
        "print(new_array)"
      ],
      "metadata": {
        "colab": {
          "base_uri": "https://localhost:8080/"
        },
        "id": "1tEKDtmRSiPr",
        "outputId": "72bdae85-0d7b-4a05-c466-7120b95ce48d"
      },
      "execution_count": 12,
      "outputs": [
        {
          "output_type": "stream",
          "name": "stdout",
          "text": [
            "Input Your Name: JAN ROVICK M. CAUSAREN\n",
            "Array: \n",
            "['J', 'A', 'N', ' ', 'R', 'O', 'V', 'I', 'C', 'K', ' ', 'M', '.', ' ', 'C', 'A', 'U', 'S', 'A', 'R', 'E', 'N']\n",
            "\n",
            "Reversed Array: \n",
            "['N', 'E', 'R', 'A', 'S', 'U', 'A', 'C', ' ', '.', 'M', ' ', 'K', 'C', 'I', 'V', 'O', 'R', ' ', 'N', 'A', 'J']\n"
          ]
        }
      ]
    }
  ]
}