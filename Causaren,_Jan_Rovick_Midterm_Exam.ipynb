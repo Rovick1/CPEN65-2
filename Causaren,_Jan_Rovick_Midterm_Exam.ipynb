{
  "nbformat": 4,
  "nbformat_minor": 0,
  "metadata": {
    "colab": {
      "provenance": [],
      "authorship_tag": "ABX9TyMtJh3tyTSqaKYSjjGGJhvO",
      "include_colab_link": true
    },
    "kernelspec": {
      "name": "python3",
      "display_name": "Python 3"
    },
    "language_info": {
      "name": "python"
    }
  },
  "cells": [
    {
      "cell_type": "markdown",
      "metadata": {
        "id": "view-in-github",
        "colab_type": "text"
      },
      "source": [
        "<a href=\"https://colab.research.google.com/github/Rovick1/CPEN65-2/blob/main/Causaren%2C_Jan_Rovick_Midterm_Exam.ipynb\" target=\"_parent\"><img src=\"https://colab.research.google.com/assets/colab-badge.svg\" alt=\"Open In Colab\"/></a>"
      ]
    },
    {
      "cell_type": "code",
      "execution_count": 111,
      "metadata": {
        "colab": {
          "base_uri": "https://localhost:8080/"
        },
        "id": "PlbV9D2N9U4Z",
        "outputId": "0b3e9b13-63d1-474c-e968-2ab5912c70a0"
      },
      "outputs": [
        {
          "output_type": "stream",
          "name": "stdout",
          "text": [
            "Original List: array('i', [1, 2, 3, 4, 5, 6, 7, 8, 9, 10])\n",
            "Index List: [1, 3, 4, 9]\n",
            "Result list : [2, 4, 5, 10]\n",
            "Sum of result list:  21\n"
          ]
        }
      ],
      "source": [
        "#1\n",
        "from array import array\n",
        "\n",
        "a = array('i', [1,2,3,4,5,6,7,8,9,10])\n",
        "indexlist = [1,3,4,9]\n",
        "\n",
        "print(\"Original List: \" + str(a))\n",
        "print(\"Index List: \"+ str(indexlist))\n",
        "\n",
        "reslist = [a[i] for i in indexlist]\n",
        "\n",
        "print (\"Result list : \" + str(reslist))\n",
        "\n",
        "b = reslist\n",
        "sum = 0\n",
        "\n",
        "for i in range(0, len(b)):\n",
        "  sum = sum + reslist[i];\n",
        "\n",
        "print(\"Sum of result list: \",sum)"
      ]
    },
    {
      "cell_type": "code",
      "source": [
        "#2\n",
        "b = array('i', [1,2,3,4,5,6,7,8,9,10])\n",
        "x = int(input(\"Input Number: \"))\n",
        "b.append(x)\n",
        "print(b)"
      ],
      "metadata": {
        "colab": {
          "base_uri": "https://localhost:8080/"
        },
        "id": "uydN5FOSFq0K",
        "outputId": "b0207388-09ac-4543-8267-2413b5e31c69"
      },
      "execution_count": 77,
      "outputs": [
        {
          "output_type": "stream",
          "name": "stdout",
          "text": [
            "Input Number: 90\n",
            "array('i', [1, 2, 3, 4, 5, 6, 7, 8, 9, 10, 90])\n"
          ]
        }
      ]
    },
    {
      "cell_type": "code",
      "source": [
        "#3\n",
        "c = array('i', [1,2,3,4,5,6,7,8,9,10])\n",
        "\n",
        "\n",
        "c.insert(1,55)\n",
        "\n",
        "print(\"inserting a 55 before the second element: \")\n",
        "print(c)"
      ],
      "metadata": {
        "colab": {
          "base_uri": "https://localhost:8080/"
        },
        "id": "u8GFRVBeFufy",
        "outputId": "deb65ebc-11ad-4aa9-a514-2aa195540afa"
      },
      "execution_count": 51,
      "outputs": [
        {
          "output_type": "stream",
          "name": "stdout",
          "text": [
            "inserting a 55 before the second element: \n",
            "array('i', [1, 55, 2, 3, 4, 5, 6, 7, 8, 9, 10])\n"
          ]
        }
      ]
    },
    {
      "cell_type": "code",
      "source": [
        "#4\n",
        "d = array('i', [5,4,3,2,1])\n",
        "d.reverse()\n",
        "\n",
        "print(\"Reversed order of array:\")\n",
        "print(d)"
      ],
      "metadata": {
        "colab": {
          "base_uri": "https://localhost:8080/"
        },
        "id": "Pb1yYMTtFx-8",
        "outputId": "483786ad-c460-450e-cef9-0c7fdb93182f"
      },
      "execution_count": 36,
      "outputs": [
        {
          "output_type": "stream",
          "name": "stdout",
          "text": [
            "Reversed order of array\n",
            "array('i', [1, 2, 3, 4, 5])\n"
          ]
        }
      ]
    },
    {
      "cell_type": "code",
      "source": [
        "#5 \n",
        "e = array('i', [5,4,3,2,1])\n",
        "\n",
        "length = len(e)\n",
        "\n",
        "print(\"length of array:\", length)"
      ],
      "metadata": {
        "colab": {
          "base_uri": "https://localhost:8080/"
        },
        "id": "hTlQRSRbFx4D",
        "outputId": "302dbdcc-5742-4916-b853-cb1a5e638557"
      },
      "execution_count": 41,
      "outputs": [
        {
          "output_type": "stream",
          "name": "stdout",
          "text": [
            "length of array: 5\n"
          ]
        }
      ]
    }
  ]
}