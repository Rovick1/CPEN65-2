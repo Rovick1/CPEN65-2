{
  "nbformat": 4,
  "nbformat_minor": 0,
  "metadata": {
    "colab": {
      "provenance": [],
      "authorship_tag": "ABX9TyPkqQP9GHDVlfNyOWVyHFk3",
      "include_colab_link": true
    },
    "kernelspec": {
      "name": "python3",
      "display_name": "Python 3"
    },
    "language_info": {
      "name": "python"
    }
  },
  "cells": [
    {
      "cell_type": "markdown",
      "metadata": {
        "id": "view-in-github",
        "colab_type": "text"
      },
      "source": [
        "<a href=\"https://colab.research.google.com/github/Rovick1/CPEN65-2/blob/main/Stacks_and_Queues.ipynb\" target=\"_parent\"><img src=\"https://colab.research.google.com/assets/colab-badge.svg\" alt=\"Open In Colab\"/></a>"
      ]
    },
    {
      "cell_type": "code",
      "execution_count": 18,
      "metadata": {
        "colab": {
          "base_uri": "https://localhost:8080/"
        },
        "id": "EoHPxXDzDb_J",
        "outputId": "1a27a616-e891-4dce-8785-c45170107473"
      },
      "outputs": [
        {
          "output_type": "stream",
          "name": "stdout",
          "text": [
            "[1, 2, 3]\n",
            "[1, 2]\n",
            "[1]\n",
            "[]\n"
          ]
        }
      ],
      "source": [
        "class Stack:\n",
        "  def __init__(self):\n",
        "    self.stack = []\n",
        "\n",
        "  def push(self,dataval):\n",
        "    if dataval not in self.stack:\n",
        "      return self.stack.append(dataval)\n",
        "    else:\n",
        "      return False\n",
        "  def pop(self):\n",
        "    if len(self.stack)<=0:\n",
        "      return \"Stack is empty\"\n",
        "    else:\n",
        "      return self.stack.pop()\n",
        "\n",
        "AStack = Stack()\n",
        "AStack.push(1)\n",
        "AStack.push(2)\n",
        "AStack.push(3)\n",
        "\n",
        "print(AStack.stack)\n",
        "\n",
        "AStack.pop()\n",
        "print(AStack.stack)\n",
        "\n",
        "AStack.pop()\n",
        "print(AStack.stack)\n",
        "\n",
        "AStack.pop()\n",
        "print(AStack.stack)\n",
        "\n"
      ]
    },
    {
      "cell_type": "code",
      "source": [
        "#application 1\n",
        "\n",
        "#Impliment the above by Queues Data Structure (enqueue and dequeue/FIFO principle)\n",
        "\n",
        "\n",
        "class Queue:\n",
        "  def __init__(self):\n",
        "    self.queue = []\n",
        "\n",
        "  def Enqueue(self,dataval):\n",
        "    if dataval not in self.queue:\n",
        "      return self.queue.append(dataval)\n",
        "    else:\n",
        "      return False\n",
        "  def dequeue(self):\n",
        "    if len(self.queue)<=0:\n",
        "      return \"Queues is empty\"\n",
        "    else:\n",
        "      return self.queue.pop(0)\n",
        "\n",
        "q = Queue()\n",
        "q.Enqueue(1)\n",
        "q.Enqueue(2)\n",
        "q.Enqueue(3)\n",
        "q.Enqueue(4)\n",
        "\n",
        "print(q.queue)\n",
        "print(q.dequeue())\n",
        "print(q.queue)\n",
        "print(q.dequeue())\n",
        "print(q.queue)\n",
        "print(q.dequeue())\n",
        "print(q.queue)\n",
        "print(q.dequeue())\n",
        "print(q.queue)\n",
        "print(q.dequeue())"
      ],
      "metadata": {
        "colab": {
          "base_uri": "https://localhost:8080/"
        },
        "id": "h5rhn8HgG_nd",
        "outputId": "3839990c-c29a-4e12-b39b-4c974b4a434e"
      },
      "execution_count": 66,
      "outputs": [
        {
          "output_type": "stream",
          "name": "stdout",
          "text": [
            "[1, 2, 3, 4]\n",
            "1\n",
            "[2, 3, 4]\n",
            "2\n",
            "[3, 4]\n",
            "3\n",
            "[4]\n",
            "4\n",
            "[]\n",
            "Queues is empty\n"
          ]
        }
      ]
    }
  ]
}